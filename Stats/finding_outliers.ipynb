{
 "cells": [
  {
   "cell_type": "markdown",
   "metadata": {},
   "source": [
    "# Finding Outliers"
   ]
  },
  {
   "cell_type": "code",
   "execution_count": 1,
   "metadata": {},
   "outputs": [],
   "source": [
    "import numpy as np\n",
    "import pandas as pd\n",
    "import matplotlib.pyplot as plt\n",
    "\n",
    "%matplotlib inline"
   ]
  },
  {
   "cell_type": "markdown",
   "metadata": {},
   "source": [
    "### Some criterias to identify Outliers\n",
    "1. Data point that falls outside of 1.5 times of an IQR avobe the 3rd Quartile and below the 1st Quartile.\n",
    "2. Data point that falls outside of 3 standard deviations, we can use a z-score and if the z-score falls outside of 2 standard deviation"
   ]
  },
  {
   "cell_type": "markdown",
   "metadata": {},
   "source": [
    "### Various ways to find outliers\n",
    "1. Using Scatter plots\n",
    "2. Box plot\n",
    "3. using z-score\n",
    "4. using the IQR"
   ]
  },
  {
   "cell_type": "code",
   "execution_count": null,
   "metadata": {},
   "outputs": [],
   "source": [
    "dataset = [12, 15, 16, 14, 13, 21, 18, 17, 16, 23, 120, 22, 19, 14,\n",
    "           10, 8, 25, 18, 110, 30, 9, 24, 11, 19, 16, 27, 105, 26, 15, 33]"
   ]
  },
  {
   "cell_type": "markdown",
   "metadata": {},
   "source": [
    "### Detecting using z-score\n",
    "z = (x – μ) / σ"
   ]
  },
  {
   "cell_type": "code",
   "execution_count": 13,
   "metadata": {},
   "outputs": [],
   "source": [
    "def detect_outliers(data):\n",
    "    outliers = []\n",
    "    z_scores = []\n",
    "    threshold = 3\n",
    "    mean = np.mean(data)\n",
    "    sd = np.std(data)\n",
    "\n",
    "    for i in data:\n",
    "        z_score = (i-mean)/sd\n",
    "        z_scores.append(int(z_score))\n",
    "        if np.abs(z_score) > threshold:\n",
    "            outliers.append(i)\n",
    "    print(z_scores)\n",
    "    return outliers"
   ]
  },
  {
   "cell_type": "code",
   "execution_count": 14,
   "metadata": {},
   "outputs": [
    {
     "name": "stdout",
     "output_type": "stream",
     "text": [
      "[0, 0, 0, 0, 0, 0, 0, 0, 0, 0, 3, 0, 0, 0, 0, 0, 0, 0, 2, 0, 0, 0, 0, 0, 0, 0, 2, 0, 0, 0]\n"
     ]
    }
   ],
   "source": [
    "outliers_points = detect_outliers(dataset)"
   ]
  },
  {
   "cell_type": "code",
   "execution_count": 12,
   "metadata": {},
   "outputs": [
    {
     "data": {
      "text/plain": [
       "[120]"
      ]
     },
     "execution_count": 12,
     "metadata": {},
     "output_type": "execute_result"
    }
   ],
   "source": [
    "outliers_points"
   ]
  },
  {
   "cell_type": "markdown",
   "metadata": {},
   "source": [
    "### IQR\n",
    "75% - 25% values in the dataset\n",
    "\n",
    "#### Steps\n",
    "1. Arrange the data in ascending order\n",
    "2. Calculate first (q1) and third (q3) quartile\n",
    "3. Find IQR (q3 - q1)\n",
    "4. Find lower bound: lower = q1 - (iqr* 1.5)\n",
    "5. Find upper bound: upper = q3 + (iqr* 1.5)\n",
    "\n",
    "Anything lying outside the lower and upper bound is an outlier. "
   ]
  },
  {
   "cell_type": "code",
   "execution_count": 17,
   "metadata": {},
   "outputs": [],
   "source": [
    "data = sorted(dataset)"
   ]
  },
  {
   "cell_type": "code",
   "execution_count": null,
   "metadata": {},
   "outputs": [
    {
     "name": "stdout",
     "output_type": "stream",
     "text": [
      "14.25 24.75\n"
     ]
    }
   ],
   "source": [
    "q1, q3 = np.percentile(data, [25, 75])\n",
    "print(q1, q3)"
   ]
  },
  {
   "cell_type": "code",
   "execution_count": null,
   "metadata": {},
   "outputs": [
    {
     "data": {
      "text/plain": [
       "np.float64(10.5)"
      ]
     },
     "execution_count": 19,
     "metadata": {},
     "output_type": "execute_result"
    }
   ],
   "source": [
    "iqr = q3-q1\n",
    "iqr"
   ]
  },
  {
   "cell_type": "code",
   "execution_count": null,
   "metadata": {},
   "outputs": [],
   "source": [
    "lower = q1 - (iqr * 1.5)\n",
    "upper = q3 + (iqr * 1.5)"
   ]
  },
  {
   "cell_type": "code",
   "execution_count": null,
   "metadata": {},
   "outputs": [
    {
     "name": "stdout",
     "output_type": "stream",
     "text": [
      "[105, 110, 120]"
     ]
    }
   ],
   "source": [
    "outliers_list = []\n",
    "\n",
    "for i in data:\n",
    "    if i < lower or i > upper:\n",
    "        outliers_list.append(i)\n",
    "print(outliers_list, end=\"\")"
   ]
  }
 ],
 "metadata": {
  "kernelspec": {
   "display_name": "Python 3",
   "language": "python",
   "name": "python3"
  },
  "language_info": {
   "codemirror_mode": {
    "name": "ipython",
    "version": 3
   },
   "file_extension": ".py",
   "mimetype": "text/x-python",
   "name": "python",
   "nbconvert_exporter": "python",
   "pygments_lexer": "ipython3",
   "version": "3.12.5"
  }
 },
 "nbformat": 4,
 "nbformat_minor": 2
}
